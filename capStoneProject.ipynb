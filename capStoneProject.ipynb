{
  "nbformat": 4,
  "nbformat_minor": 0,
  "metadata": {
    "colab": {
      "name": "capStoneProject.ipynb",
      "provenance": [],
      "authorship_tag": "ABX9TyNAecscmMTpue8vWchgL6hc"
    },
    "kernelspec": {
      "name": "python3",
      "display_name": "Python 3"
    }
  },
  "cells": [
    {
      "cell_type": "markdown",
      "metadata": {
        "id": "BMo6TcDG8yAc"
      },
      "source": [
        "Hi there! This notebook will be used for capstone project\r\n"
      ]
    },
    {
      "cell_type": "code",
      "metadata": {
        "id": "KnU__kNv8iEU"
      },
      "source": [
        "import pandas as pd\r\n",
        "import numpy as np"
      ],
      "execution_count": 1,
      "outputs": []
    },
    {
      "cell_type": "code",
      "metadata": {
        "colab": {
          "base_uri": "https://localhost:8080/"
        },
        "id": "Xner8uVx9Kqp",
        "outputId": "0b04583d-4362-4922-88b1-bd99cb174a17"
      },
      "source": [
        "print(\"Hello Capstone Project Course!\")"
      ],
      "execution_count": 2,
      "outputs": [
        {
          "output_type": "stream",
          "text": [
            "Hello Capstone Project Course!\n"
          ],
          "name": "stdout"
        }
      ]
    }
  ]
}